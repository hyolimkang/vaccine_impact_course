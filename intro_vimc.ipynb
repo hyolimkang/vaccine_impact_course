{
 "cells": [
  {
   "cell_type": "code",
   "execution_count": null,
   "id": "efae503d-c61c-4d5c-99f2-25c028ba6470",
   "metadata": {},
   "outputs": [],
   "source": [
    "summary(cars)\n",
    "\n",
    "# ggplot2 시각화\n",
    "library(ggplot2)\n",
    "ggplot(mtcars, aes(x = hp, y = mpg)) +\n",
    "  geom_point() +\n",
    "  theme_minimal()"
   ]
  }
 ],
 "metadata": {
  "kernelspec": {
   "display_name": "R",
   "language": "R",
   "name": "ir"
  },
  "language_info": {
   "codemirror_mode": "r",
   "file_extension": ".r",
   "mimetype": "text/x-r-source",
   "name": "R",
   "pygments_lexer": "r",
   "version": "4.3.1"
  }
 },
 "nbformat": 4,
 "nbformat_minor": 5
}
