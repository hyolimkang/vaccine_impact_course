{
  "cells": [
    {
      "cell_type": "code",
      "execution_count": null,
      "id": "efae503d-c61c-4d5c-99f2-25c028ba6470",
      "metadata": {
        "id": "efae503d-c61c-4d5c-99f2-25c028ba6470",
        "outputId": "cf0daa35-b4e8-48b0-eb57-5bbf240d3025",
        "colab": {
          "base_uri": "https://localhost:8080/"
        }
      },
      "outputs": [
        {
          "output_type": "stream",
          "name": "stderr",
          "text": [
            "Installing packages into ‘/usr/local/lib/R/site-library’\n",
            "(as ‘lib’ is unspecified)\n",
            "\n"
          ]
        }
      ],
      "source": [
        "install.packages(c(\"deSolve\", \"ggplot2\", \"dplyr\", \"tidyr\"))\n",
        "\n",
        "library(deSolve)\n",
        "library(ggplot2)\n",
        "\n",
        "# SIR model function\n",
        "sir_model <- function(time, state, parameters) {\n",
        "  with(as.list(c(state, parameters)), {\n",
        "    dS <- -beta * S * I / N\n",
        "    dI <- beta * S * I / N - gamma * I\n",
        "    dR <- gamma * I\n",
        "    return(list(c(dS, dI, dR)))\n",
        "  })\n",
        "}\n",
        "\n",
        "# Set parameters\n",
        "parameters <- c(beta = 0.3, gamma = 0.1)\n",
        "state <- c(S = 999, I = 1, R = 0)\n",
        "times <- seq(0, 600, by = 1)\n",
        "N <- sum(state)\n",
        "\n",
        "# Solve the differential equations\n",
        "out <- ode(y = state, times = times, func = sir_model, parms = parameters)\n",
        "df <- as.data.frame(out)\n",
        "\n",
        "# Plot\n",
        "ggplot(df, aes(x = time)) +\n",
        "  geom_line(aes(y = S, color = \"Susceptible\")) +\n",
        "  geom_line(aes(y = I, color = \"Infected\")) +\n",
        "  geom_line(aes(y = R, color = \"Removed\")) +\n",
        "  scale_color_manual(values = c(\"Susceptible\" = \"blue\", \"Infected\" = \"red\", \"Removed\" = \"green\")) +\n",
        "  labs(x = \"Time/count\", y = \"Number of people / 1000\", color = \"\") +\n",
        "  theme_minimal() +\n",
        "  theme(legend.position = \"right\")"
      ]
    },
    {
      "cell_type": "code",
      "execution_count": null,
      "id": "1de291fa-2460-4789-954b-82f55a6ad336",
      "metadata": {
        "id": "1de291fa-2460-4789-954b-82f55a6ad336"
      },
      "outputs": [],
      "source": []
    }
  ],
  "metadata": {
    "kernelspec": {
      "display_name": "R",
      "language": "R",
      "name": "ir"
    },
    "language_info": {
      "codemirror_mode": "r",
      "file_extension": ".r",
      "mimetype": "text/x-r-source",
      "name": "R",
      "pygments_lexer": "r",
      "version": "4.3.1"
    },
    "colab": {
      "provenance": []
    }
  },
  "nbformat": 4,
  "nbformat_minor": 5
}