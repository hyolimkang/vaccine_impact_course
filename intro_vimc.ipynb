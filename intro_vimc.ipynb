{
 "cells": [
  {
   "cell_type": "code",
   "execution_count": null,
   "id": "efae503d-c61c-4d5c-99f2-25c028ba6470",
   "metadata": {},
   "outputs": [],
   "source": [
    "library(deSolve)\n",
    "library(ggplot2)\n",
    "library(scales)\n",
    "\n",
    "# SIR model function\n",
    "sir_model <- function(time, state, parameters) {\n",
    "  with(as.list(c(state, parameters)), {\n",
    "    dS <- -beta * S * I / N\n",
    "    dI <- beta * S * I / N - gamma * I\n",
    "    dR <- gamma * I\n",
    "    return(list(c(dS, dI, dR)))\n",
    "  })\n",
    "}"
   ]
  },
  {
   "cell_type": "code",
   "execution_count": null,
   "id": "478d8d75-e573-48d4-8b94-9f3aacfe0666",
   "metadata": {},
   "outputs": [],
   "source": [
    "# Set parameters\n",
    "parameters <- c(beta = 0.5, gamma = 0.1)\n",
    "state <- c(S = 99000, I = 1000, R = 0)\n",
    "times <- seq(0, 180, by = 1)\n",
    "N <- sum(state)"
   ]
  },
  {
   "cell_type": "code",
   "execution_count": null,
   "id": "72857279-5f6f-4bff-abb9-68054c5f0653",
   "metadata": {},
   "outputs": [],
   "source": [
    "# Solve the differential equations\n",
    "out <- ode(y = state, times = times, func = sir_model, parms = parameters)\n",
    "df <- as.data.frame(out)"
   ]
  },
  {
   "cell_type": "code",
   "execution_count": null,
   "id": "310bcbd8-a229-4965-889f-4361c8ee75e4",
   "metadata": {},
   "outputs": [],
   "source": [
    "# Plot\n",
    "ggplot(df, aes(x = time)) +\n",
    "  geom_line(aes(y = S, color = \"Susceptible\")) +\n",
    "  geom_line(aes(y = I, color = \"Infected\")) +\n",
    "  geom_line(aes(y = R, color = \"Recovered\")) +\n",
    "  scale_color_manual(values = c(\"Susceptible\" = \"blue\", \"Infected\" = \"red\", \"Recovered\" = \"green\")) +\n",
    "  labs(x = \"Time (Days)\", y = \"Number of infections\", color = \"\") +\n",
    "  theme_minimal() +\n",
    "  theme(legend.position = \"right\")+\n",
    "  scale_y_continuous(labels = comma)"
   ]
  },
  {
   "cell_type": "code",
   "execution_count": null,
   "id": "191a01fe-b960-4538-9c00-8643cf5ef4d2",
   "metadata": {},
   "outputs": [],
   "source": [
    "sirv_model <- function(time, state, parameters) {\n",
    "  with(as.list(c(state, parameters)), {\n",
    "    \n",
    "    N <- S + I + R + V\n",
    "    \n",
    "    vacc_rate <- ifelse(time >= vaccine_start,\n",
    "                        vaccine_coverage / vaccine_duration,\n",
    "                        0)\n",
    "    \n",
    "    dS <- -beta * S * I / N - (vacc_rate * vacc_eff) * S\n",
    "    dI <- beta * S * I / N - gamma * I\n",
    "    dR <- gamma * I\n",
    "    dV <- (vacc_rate * vacc_eff) * S\n",
    "    \n",
    "    return(list(c(dS, dI, dR, dV)))\n",
    "  })\n",
    "}"
   ]
  },
  {
   "cell_type": "code",
   "execution_count": null,
   "id": "e695404a-3c43-42b2-9356-ca5210a03c28",
   "metadata": {},
   "outputs": [],
   "source": [
    "initial_state <- c(\n",
    "  S = 99000,\n",
    "  I = 1000,\n",
    "  R = 0,\n",
    "  V = 0\n",
    ")\n",
    "\n",
    "times <- seq(0, 180, by = 1)\n",
    "\n",
    "# differnt start days\n",
    "start_days <- c(10, 30, 50, 70)\n"
   ]
  },
  {
   "cell_type": "code",
   "execution_count": null,
   "id": "69f43467-5da4-4927-a275-ce7ad5a9a424",
   "metadata": {},
   "outputs": [],
   "source": [
    "# for loop\n",
    "all_outputs <- data.frame()\n",
    "for(i in start_days) {\n",
    "  \n",
    "  parameters <- c(\n",
    "    beta = 0.3,\n",
    "    gamma = 1/7,\n",
    "    vaccine_start = i,\n",
    "    vaccine_coverage = 0.5,\n",
    "    vaccine_duration = 14,\n",
    "    vacc_eff = 0.7\n",
    "  )\n",
    "  \n",
    "  out <- as.data.frame(ode(y = initial_state, times = times, func = sirv_model, parms = parameters))\n",
    "  \n",
    "  all_outputs <- rbind(all_outputs, \n",
    "                       data.frame(time = out$time,\n",
    "                                  I = out$I,\n",
    "                                  vaccine_start = i))\n",
    "}\n",
    "all_outputs$type <- \"With vaccination\"\n",
    "\n",
    "# bind with pre-vacc\n",
    "pre_vacc <- df[,c(1,3)]\n",
    "pre_vacc$vaccine_start <- 0 \n",
    "pre_vacc$type <- \"Without vaccination\"\n",
    "all_outputs <- rbind(pre_vacc, all_outputs)"
   ]
  },
  {
   "cell_type": "code",
   "execution_count": null,
   "id": "50cf0668-d01e-4902-b7be-9329d7a94aaa",
   "metadata": {},
   "outputs": [],
   "source": [
    "ggplot(all_outputs)+\n",
    "  geom_line(aes(x = time, y = I, color = as.factor(vaccine_start), linetype = as.factor(type)))+\n",
    "  theme_bw()+\n",
    "  labs(color = \"Vaccine start day\",\n",
    "      linetype = \"Type\")+\n",
    "  scale_y_continuous(labels = comma)+\n",
    "  xlab(\"Time (Days)\")+\n",
    "  ylab(\"Number of infections\")"
   ]
  },
  {
   "cell_type": "code",
   "execution_count": null,
   "id": "32d2dad1-934c-4366-9a16-9ede056d1b74",
   "metadata": {},
   "outputs": [],
   "source": [
    "# differnt coverage\n",
    "vacc_coverage <- c(0.1, 0.3, 0.5, 0.7)\n",
    "\n",
    "# for loop\n",
    "all_outputs <- data.frame()\n",
    "for(vc in vacc_coverage) {\n",
    "  \n",
    "  parameters <- c(\n",
    "    beta = 0.3,\n",
    "    gamma = 1/7,\n",
    "    vaccine_start = 10,\n",
    "    vaccine_coverage = vc,\n",
    "    vaccine_duration = 14,\n",
    "    vacc_eff = 0.7\n",
    "  )\n",
    "  \n",
    "  out <- as.data.frame(ode(y = initial_state, times = times, func = sirv_model, parms = parameters))\n",
    "  \n",
    "  all_outputs <- rbind(all_outputs, \n",
    "                       data.frame(time = out$time,\n",
    "                                  I = out$I,\n",
    "                                  vaccine_coverage = vc))\n",
    "}\n",
    "all_outputs$type <- \"With vaccination\"\n",
    "colnames(pre_vacc)[3] <- \"vaccine_coverage\"\n",
    "all_outputs <- rbind(pre_vacc, all_outputs)"
   ]
  },
  {
   "cell_type": "code",
   "execution_count": null,
   "id": "d37654b5-1d4c-4202-97e6-9e1f2d5d5662",
   "metadata": {},
   "outputs": [],
   "source": [
    "ggplot(all_outputs)+\n",
    "  geom_line(aes(x = time, y = I, color = as.factor(vaccine_coverage) , linetype = as.factor(type)))+\n",
    "  theme_bw()+\n",
    "  scale_y_continuous(labels = comma)+\n",
    "  labs(color = \"Vaccine coverage\",\n",
    "       linetype = \"Type\") +\n",
    "  xlab(\"Time (Days)\")+\n",
    "  ylab(\"Number of infections\")"
   ]
  },
  {
   "cell_type": "code",
   "execution_count": null,
   "id": "ad37d398-ee19-4f68-b02c-412e23b1e958",
   "metadata": {},
   "outputs": [],
   "source": [
    "vacc_eff <- c(0.1, 0.3, 0.5, 0.7, 0.9)\n",
    "\n",
    "# for loop\n",
    "all_outputs <- data.frame()\n",
    "for(ve in vacc_eff) {\n",
    "  \n",
    "  parameters <- c(\n",
    "    beta = 0.3,\n",
    "    gamma = 1/7,\n",
    "    vaccine_start = 10,\n",
    "    vaccine_coverage = 0.5,\n",
    "    vaccine_duration = 14,\n",
    "    vacc_eff         = ve\n",
    "  )\n",
    "  \n",
    "  out <- as.data.frame(ode(y = initial_state, times = times, func = sirv_model, parms = parameters))\n",
    "  \n",
    "  all_outputs <- rbind(all_outputs, \n",
    "                       data.frame(time = out$time,\n",
    "                                  I = out$I,\n",
    "                                  vacc_eff = ve))\n",
    "}\n",
    "all_outputs$type <- \"With vaccination\"\n",
    "colnames(pre_vacc)[3] <- \"vacc_eff\"\n",
    "all_outputs <- rbind(pre_vacc, all_outputs)"
   ]
  },
  {
   "cell_type": "code",
   "execution_count": null,
   "id": "4f1dfd4b-94ec-4998-9306-e75c41759535",
   "metadata": {},
   "outputs": [],
   "source": [
    "ggplot(all_outputs)+\n",
    "  geom_line(aes(x = time, y = I, color = as.factor(vacc_eff) , linetype = as.factor(type)))+\n",
    "  theme_bw()+\n",
    "  scale_y_continuous(labels = comma)+\n",
    "  labs(color = \"Vaccine efficacy\",\n",
    "       linetype = \"Type\") +\n",
    "  xlab(\"Time (Days)\")+\n",
    "  ylab(\"Number of infections\")"
   ]
  },
  {
   "cell_type": "code",
   "execution_count": null,
   "id": "10d1bc96-cc84-4283-a53d-b0fce797482f",
   "metadata": {},
   "outputs": [],
   "source": []
  }
 ],
 "metadata": {
  "kernelspec": {
   "display_name": "R",
   "language": "R",
   "name": "ir"
  },
  "language_info": {
   "codemirror_mode": "r",
   "file_extension": ".r",
   "mimetype": "text/x-r-source",
   "name": "R",
   "pygments_lexer": "r",
   "version": "4.3.1"
  }
 },
 "nbformat": 4,
 "nbformat_minor": 5
}
